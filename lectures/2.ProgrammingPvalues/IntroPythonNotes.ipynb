{
 "cells": [
  {
   "cell_type": "code",
   "execution_count": 1,
   "metadata": {
    "collapsed": false,
    "deletable": true,
    "editable": true
   },
   "outputs": [
    {
     "name": "stdout",
     "output_type": "stream",
     "text": [
      "Hello Mike\n"
     ]
    }
   ],
   "source": [
    "print \"Hello Mike\""
   ]
  },
  {
   "cell_type": "code",
   "execution_count": 2,
   "metadata": {
    "collapsed": false,
    "deletable": true,
    "editable": true
   },
   "outputs": [
    {
     "name": "stdout",
     "output_type": "stream",
     "text": [
      "Hi Mike\n",
      "Hi Mike\n",
      "Hi Mike\n",
      "Hi Mike\n",
      "Hi Mike\n",
      "Hi Mike\n",
      "Hi Mike\n",
      "Hi Mike\n",
      "Hi Mike\n",
      "Hi Mike\n"
     ]
    }
   ],
   "source": [
    "for i in xrange(10):\n",
    "    print \"Hi Mike\""
   ]
  },
  {
   "cell_type": "code",
   "execution_count": 14,
   "metadata": {
    "collapsed": false,
    "deletable": true,
    "editable": true
   },
   "outputs": [
    {
     "name": "stdout",
     "output_type": "stream",
     "text": [
      "5605.28016998\n"
     ]
    }
   ],
   "source": [
    "r = 42.24\n",
    "area = 3.14159 * r * r\n",
    "print area"
   ]
  },
  {
   "cell_type": "code",
   "execution_count": 44,
   "metadata": {
    "collapsed": false,
    "deletable": true,
    "editable": true
   },
   "outputs": [
    {
     "name": "stdout",
     "output_type": "stream",
     "text": [
      "60\n",
      "20\n"
     ]
    }
   ],
   "source": [
    "sum = 10+20+30\n",
    "average = sum/3\n",
    "print sum\n",
    "print average"
   ]
  },
  {
   "cell_type": "code",
   "execution_count": 47,
   "metadata": {
    "collapsed": false,
    "deletable": true,
    "editable": true
   },
   "outputs": [
    {
     "name": "stdout",
     "output_type": "stream",
     "text": [
      "3\n",
      "1\n"
     ]
    }
   ],
   "source": [
    "sum=1+2\n",
    "average=sum/2\n",
    "print sum\n",
    "print average"
   ]
  },
  {
   "cell_type": "code",
   "execution_count": 48,
   "metadata": {
    "collapsed": false,
    "deletable": true,
    "editable": true
   },
   "outputs": [
    {
     "name": "stdout",
     "output_type": "stream",
     "text": [
      "1.5\n"
     ]
    }
   ],
   "source": [
    "averagefloat=sum/2.\n",
    "print averagefloat"
   ]
  },
  {
   "cell_type": "code",
   "execution_count": 15,
   "metadata": {
    "collapsed": false,
    "deletable": true,
    "editable": true
   },
   "outputs": [
    {
     "name": "stdout",
     "output_type": "stream",
     "text": [
      "the area of a circle with r=5 is 78.539750\n",
      "the area of a circle with r=6 is 113.097240\n",
      "the area of a circle with r=7 is 153.937910\n",
      "the area of a circle with r=8 is 201.061760\n",
      "the area of a circle with r=9 is 254.468790\n"
     ]
    }
   ],
   "source": [
    "for r in xrange(5,10):\n",
    "    area = 3.14159 * r * r\n",
    "    print \"the area of a circle with r=%d is %f\" % (r,area)"
   ]
  },
  {
   "cell_type": "code",
   "execution_count": 19,
   "metadata": {
    "collapsed": false,
    "deletable": true,
    "editable": true
   },
   "outputs": [
    {
     "name": "stdout",
     "output_type": "stream",
     "text": [
      "[41, 38, 11, 9]\n"
     ]
    }
   ],
   "source": [
    "numbers = [41, 38, 11, 9]\n",
    "print numbers"
   ]
  },
  {
   "cell_type": "code",
   "execution_count": 20,
   "metadata": {
    "collapsed": false,
    "deletable": true,
    "editable": true
   },
   "outputs": [
    {
     "name": "stdout",
     "output_type": "stream",
     "text": [
      "[41, 38, 11, 9, 2]\n"
     ]
    }
   ],
   "source": [
    "numbers.append(2)\n",
    "print numbers"
   ]
  },
  {
   "cell_type": "code",
   "execution_count": 22,
   "metadata": {
    "collapsed": false,
    "deletable": true,
    "editable": true
   },
   "outputs": [
    {
     "name": "stdout",
     "output_type": "stream",
     "text": [
      "['Kelly', 'Mike', 'Katherine']\n"
     ]
    }
   ],
   "source": [
    "names=[\"Kelly\", \"Mike\", \"Katherine\"]\n",
    "print names"
   ]
  },
  {
   "cell_type": "code",
   "execution_count": 23,
   "metadata": {
    "collapsed": false,
    "deletable": true,
    "editable": true
   },
   "outputs": [
    {
     "name": "stdout",
     "output_type": "stream",
     "text": [
      "['Kelly', 'Mike', 'Katherine', 'Sydney', 'James']\n"
     ]
    }
   ],
   "source": [
    "names.append(\"Sydney\")\n",
    "names.append(\"James\")\n",
    "print names"
   ]
  },
  {
   "cell_type": "code",
   "execution_count": 24,
   "metadata": {
    "collapsed": false,
    "deletable": true,
    "editable": true
   },
   "outputs": [
    {
     "name": "stdout",
     "output_type": "stream",
     "text": [
      "Sydney\n"
     ]
    }
   ],
   "source": [
    "print names[3]\n"
   ]
  },
  {
   "cell_type": "code",
   "execution_count": 25,
   "metadata": {
    "collapsed": false,
    "deletable": true,
    "editable": true
   },
   "outputs": [
    {
     "name": "stdout",
     "output_type": "stream",
     "text": [
      "Kelly\n"
     ]
    }
   ],
   "source": [
    "print names[0]"
   ]
  },
  {
   "cell_type": "code",
   "execution_count": 26,
   "metadata": {
    "collapsed": false,
    "deletable": true,
    "editable": true
   },
   "outputs": [
    {
     "name": "stdout",
     "output_type": "stream",
     "text": [
      "Kelly is 41 years old\n",
      "Mike is 38 years old\n",
      "Katherine is 11 years old\n",
      "Sydney is 9 years old\n",
      "James is 2 years old\n"
     ]
    }
   ],
   "source": [
    "for i in xrange(5):\n",
    "    print \"%s is %d years old\" % (names[i], numbers[i])"
   ]
  },
  {
   "cell_type": "code",
   "execution_count": 27,
   "metadata": {
    "collapsed": false,
    "deletable": true,
    "editable": true
   },
   "outputs": [
    {
     "name": "stdout",
     "output_type": "stream",
     "text": [
      "6\n"
     ]
    }
   ],
   "source": [
    "names.append(\"Bill\")\n",
    "numbers.append(42)\n",
    "print len(names)"
   ]
  },
  {
   "cell_type": "code",
   "execution_count": 28,
   "metadata": {
    "collapsed": false,
    "deletable": true,
    "editable": true
   },
   "outputs": [
    {
     "name": "stdout",
     "output_type": "stream",
     "text": [
      "Kelly is 41 years old\n",
      "Mike is 38 years old\n",
      "Katherine is 11 years old\n",
      "Sydney is 9 years old\n",
      "James is 2 years old\n",
      "Bill is 42 years old\n"
     ]
    }
   ],
   "source": [
    "for i in xrange(len(names)):\n",
    "    print \"%s is %d years old\" % (names[i], numbers[i])"
   ]
  },
  {
   "cell_type": "code",
   "execution_count": 30,
   "metadata": {
    "collapsed": false,
    "deletable": true,
    "editable": true
   },
   "outputs": [
    {
     "data": {
      "text/plain": [
       "78"
      ]
     },
     "execution_count": 30,
     "metadata": {},
     "output_type": "execute_result"
    }
   ],
   "source": [
    "random.randint(1,100)"
   ]
  },
  {
   "cell_type": "code",
   "execution_count": 31,
   "metadata": {
    "collapsed": false,
    "deletable": true,
    "editable": true
   },
   "outputs": [
    {
     "data": {
      "text/plain": [
       "82"
      ]
     },
     "execution_count": 31,
     "metadata": {},
     "output_type": "execute_result"
    }
   ],
   "source": [
    "random.randint(1,100)"
   ]
  },
  {
   "cell_type": "code",
   "execution_count": 33,
   "metadata": {
    "collapsed": false,
    "deletable": true,
    "editable": true
   },
   "outputs": [],
   "source": [
    "## how would i get 100 random numbers?"
   ]
  },
  {
   "cell_type": "code",
   "execution_count": 43,
   "metadata": {
    "collapsed": false,
    "deletable": true,
    "editable": true
   },
   "outputs": [
    {
     "name": "stdout",
     "output_type": "stream",
     "text": [
      "[97, 15, 16, 28, 68, 71, 65, 96, 86, 33, 55, 77, 48, 22, 36, 55, 7, 8, 10, 57, 54, 70, 63, 87, 22, 29, 61, 49, 43, 43, 17, 99, 52, 15, 97, 13, 63, 63, 61, 65, 36, 29, 66, 96, 7, 95, 57, 48, 42, 77, 12, 34, 25, 69, 34, 47, 75, 73, 82, 38, 39, 43, 86, 5, 13, 93, 35, 68, 78, 59, 61, 9, 24, 49, 71, 55, 77, 95, 5, 15, 62, 51, 57, 3, 50, 53, 15, 73, 25, 97, 51, 97, 8, 28, 13, 73, 82, 90, 86, 57]\n"
     ]
    }
   ],
   "source": [
    "nums=[]\n",
    "for i in xrange(100):\n",
    "    nums.append(random.randint(1,100))\n",
    "    \n",
    "print(nums)"
   ]
  }
 ],
 "metadata": {
  "kernelspec": {
   "display_name": "Python 2",
   "language": "python",
   "name": "python2"
  },
  "language_info": {
   "codemirror_mode": {
    "name": "ipython",
    "version": 2
   },
   "file_extension": ".py",
   "mimetype": "text/x-python",
   "name": "python",
   "nbconvert_exporter": "python",
   "pygments_lexer": "ipython2",
   "version": "2.7.13"
  }
 },
 "nbformat": 4,
 "nbformat_minor": 0
}
