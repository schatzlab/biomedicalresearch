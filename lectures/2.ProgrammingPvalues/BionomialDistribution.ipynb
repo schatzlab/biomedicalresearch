{
 "cells": [
  {
   "cell_type": "markdown",
   "metadata": {
    "deletable": true,
    "editable": true
   },
   "source": [
    "# Binomial Distribution\n",
    "## *If I flip a coin 100 times, what is the probability of having 25 heads?*\n",
    "\n",
    "## OR if I randomly guess on a True/False exam, what will me score be?\n",
    "## OR if I randomly fill a bag with red and green M and Ms, how many red do we expect to see?\n",
    "## OR does this look like a real genetic association or a spurious correlation?\n",
    "---"
   ]
  },
  {
   "cell_type": "code",
   "execution_count": 4,
   "metadata": {
    "collapsed": false,
    "deletable": true,
    "editable": true
   },
   "outputs": [
    {
     "name": "stdout",
     "output_type": "stream",
     "text": [
      "I saw 42 4 of 100 times for a probability of 0.04000\n"
     ]
    }
   ],
   "source": [
    "## simulate 100 trials of flipping a coin 100 times\n",
    "\n",
    "import random\n",
    "num_trials = 100\n",
    "num_flips = 100\n",
    "\n",
    "head_counts = []\n",
    "\n",
    "target_number = 42\n",
    "target_count = 0.\n",
    "\n",
    "## for each trial\n",
    "for t in xrange(num_trials):\n",
    "    \n",
    "    ## simulate a single trial of 100 flips\n",
    "    num_heads = 0\n",
    "    for f in xrange(num_flips):\n",
    "        r = random.randint(0,1)\n",
    "        \n",
    "        ## if the number of 0, record it as a head\n",
    "        if (r == 0):\n",
    "            num_heads += 1\n",
    "\n",
    "    head_counts.append(num_heads)\n",
    "    \n",
    "    if (num_heads == target_number):\n",
    "        target_count += 1\n",
    "\n",
    "target_prob = target_count / num_trials\n",
    "print \"I saw %d %d of %d times for a probability of %0.5f\" % (target_number, target_count, num_trials, target_prob)\n"
   ]
  },
  {
   "cell_type": "code",
   "execution_count": 5,
   "metadata": {
    "collapsed": false,
    "deletable": true,
    "editable": true
   },
   "outputs": [
    {
     "name": "stdout",
     "output_type": "stream",
     "text": [
      "[57, 56, 51, 49, 54, 45, 51, 55, 48, 43, 56, 55, 54, 44, 50, 52, 46, 51, 53, 53, 51, 58, 53, 41, 47, 50, 51, 57, 49, 50, 51, 42, 55, 58, 51, 46, 51, 50, 61, 59, 50, 49, 52, 51, 46, 37, 42, 56, 52, 42]\n"
     ]
    }
   ],
   "source": [
    "## print the number of times we saw heads in the first 50 trials\n",
    "print head_counts[0:50]\n"
   ]
  },
  {
   "cell_type": "code",
   "execution_count": null,
   "metadata": {
    "collapsed": false,
    "deletable": true,
    "editable": true
   },
   "outputs": [],
   "source": [
    "## Plot the histogram\n",
    "#import matplotlib.pyplot as plt\n",
    "plt.figure()\n",
    "plt.hist(head_counts)\n",
    "plt.show()\n"
   ]
  },
  {
   "cell_type": "code",
   "execution_count": null,
   "metadata": {
    "collapsed": false,
    "deletable": true,
    "editable": true
   },
   "outputs": [],
   "source": [
    "## Plot the histogram using integer values by creating more bins\n",
    "plt.figure()\n",
    "plt.hist(head_counts, bins=range(num_flips))\n",
    "plt.title(\"Using integer values\")\n",
    "#plt.xlim(50,60)\n",
    "plt.show()\n"
   ]
  },
  {
   "cell_type": "code",
   "execution_count": null,
   "metadata": {
    "collapsed": false,
    "deletable": true,
    "editable": true
   },
   "outputs": [],
   "source": [
    "## Plot the density function, notice bars sum to exactly 1 \n",
    "plt.figure()\n",
    "plt.hist(head_counts, bins=range(num_flips), normed=True)\n",
    "plt.show()\n",
    "\n",
    "\n",
    "\n",
    "\n"
   ]
  },
  {
   "cell_type": "code",
   "execution_count": null,
   "metadata": {
    "collapsed": false,
    "deletable": true,
    "editable": true
   },
   "outputs": [],
   "source": [
    "## Compute mean & stdev of distribution\n",
    "mean = (sum(head_counts) + 0.) / num_trials\n",
    "sumdiff = 0.0\n",
    "for count in head_counts:\n",
    "    diff = (count - mean) ** 2\n",
    "    sumdiff += diff\n",
    "\n",
    "sumdiff /= num_trials\n",
    "stdev = math.sqrt(sumdiff)\n",
    "\n",
    "print \"The average value was %0.2f +/- %0.2f\" % (mean, stdev)\n"
   ]
  },
  {
   "cell_type": "markdown",
   "metadata": {
    "deletable": true,
    "editable": true
   },
   "source": [
    "## *What happens to the mean or standard deviation if we change the number of trials or flips?*\n",
    "---"
   ]
  },
  {
   "cell_type": "markdown",
   "metadata": {
    "deletable": true,
    "editable": true
   },
   "source": [
    "## Can we figure out what the distribution should look like analytically?"
   ]
  },
  {
   "cell_type": "markdown",
   "metadata": {
    "deletable": true,
    "editable": true
   },
   "source": [
    "\n",
    "Ah, the good old binomial distribution!\n",
    "\n",
    "$$\n",
    "p(\\text{k heads in n flips}) = {n \\choose k} p^{k} (1-p)^{(n-k)}\n",
    "$$\n",
    "\n",
    "$$\n",
    "p \\leftarrow \\text { probability of heads in a single flip }\n",
    "$$\n",
    "\n",
    "$$\n",
    "p^k \\leftarrow \\text{ total probability of k heads}\n",
    "$$\n",
    "\n",
    "$$\n",
    "1-p \\leftarrow \\text{ probabilty of one tails}\n",
    "$$\n",
    "\n",
    "$$\n",
    "n-k \\leftarrow \\text{ number of tails}\n",
    "$$\n",
    "\n",
    "$$\n",
    "(1-p)^{(n-k)} \\leftarrow \\text{ probability of all the tails}\n",
    "$$\n",
    "\n",
    "$$\n",
    "{n \\choose k} \\leftarrow \\text{ all the different orderings of k heads in n flips}\n",
    "$$\n",
    "\n",
    "**Reminder: **\n",
    "\n",
    "$$\n",
    "{n \\choose k} = \\frac{n!}{k!(n-k)!}\n",
    "$$"
   ]
  },
  {
   "cell_type": "code",
   "execution_count": null,
   "metadata": {
    "collapsed": false,
    "deletable": true,
    "editable": true
   },
   "outputs": [],
   "source": [
    "## Compute the probability of seeing 42 heads\n",
    "prob_heads = .5\n",
    "prob_42 = math.factorial(num_flips) / (math.factorial(42) * math.factorial(num_flips-42)) * (prob_heads**42) * ((1-prob_heads)**(num_flips-42))\n",
    "print \"The probability of seeing 42 heads in %d trials is %.05f\" % (num_trials, prob_42)\n"
   ]
  },
  {
   "cell_type": "code",
   "execution_count": null,
   "metadata": {
    "collapsed": false,
    "deletable": true,
    "editable": true
   },
   "outputs": [],
   "source": [
    "## evaluate the probability density function for the range [0, num_flips]\n",
    "prob_dist = []\n",
    "for k in xrange(num_flips+1):\n",
    "    prob_k = math.factorial(num_flips) / (math.factorial(k) * math.factorial(num_flips-k)) * (prob_heads**k) * ((1-prob_heads)**(num_flips-k))\n",
    "    prob_dist.append(prob_k)\n",
    "\n",
    "plt.figure()\n",
    "plt.plot(prob_dist, color='red', linewidth=4)\n",
    "plt.show()\n"
   ]
  },
  {
   "cell_type": "code",
   "execution_count": null,
   "metadata": {
    "collapsed": false,
    "deletable": true,
    "editable": true
   },
   "outputs": [],
   "source": [
    "## overlay the analytic distribution over the data\n",
    "plt.figure()\n",
    "plt.hist(head_counts, bins=range(num_flips), normed=True)\n",
    "plt.plot(prob_dist, color='red', linewidth=4)\n",
    "plt.show()\n"
   ]
  },
  {
   "cell_type": "markdown",
   "metadata": {
    "deletable": true,
    "editable": true
   },
   "source": [
    "## FACT: The mean of the binomial distribution is \n",
    "mean = n * p\n",
    "\n",
    "## FACT: The standard deviation of the binomial distribution is \n",
    "$$\n",
    "stdev = \\sqrt(np(1 − p))\n",
    "$$\n",
    "\n",
    "(For a fixed probability, grows with the sqrt of the number of trials)"
   ]
  },
  {
   "cell_type": "code",
   "execution_count": null,
   "metadata": {
    "collapsed": false,
    "deletable": true,
    "editable": true
   },
   "outputs": [],
   "source": [
    "expected_mean  = num_flips * prob_heads\n",
    "expected_stdev = math.sqrt(num_flips * prob_heads * (1 - prob_heads)) \n",
    "\n",
    "print \"The expected frequency is %.02f +/- %.02f\" % (expected_mean, expected_stdev)\n",
    "print \"The observed frequency was %0.2f +/- %0.2f\" % (mean, stdev)\n"
   ]
  },
  {
   "cell_type": "markdown",
   "metadata": {
    "deletable": true,
    "editable": true
   },
   "source": [
    "## It is imprecise to compute the factorial of very large numbers, use the gaussian (normal) approximation instead\n",
    "\n",
    "$$\n",
    "p(x)=\\frac{1}{\\sqrt{2 \\pi \\sigma^2}} \\exp \\left( -\\frac{(x-\\mu)^2}{2 \\sigma^2} \\right)\n",
    "$$\n",
    "where $\\sigma$ is the standard deviation and $\\mu$ is the mean\n",
    "\n",
    "This is nice because you can estimate the distribution in your head if you know the mean and standard deviation\n",
    "\n",
    "![Normal Distributions](http://schatzlab.cshl.edu/data/NormalDistribution.png)"
   ]
  },
  {
   "cell_type": "code",
   "execution_count": null,
   "metadata": {
    "collapsed": false,
    "deletable": true,
    "editable": true
   },
   "outputs": [],
   "source": [
    "gaus_prob_dist = []\n",
    "pi = 3.1415926\n",
    "\n",
    "for k in xrange(num_flips+1):\n",
    "    var = expected_stdev**2\n",
    "    num = math.exp(-(float(k)-expected_mean)**2/(2*var))\n",
    "    denom = math.sqrt(2*pi*var)\n",
    "    gaus_prob = num/denom\n",
    "    gaus_prob_dist.append(gaus_prob)\n",
    "\n",
    "plt.figure()\n",
    "plt.plot(gaus_prob_dist, color='green', linewidth=4, linestyle='dashed')\n",
    "plt.show()\n"
   ]
  },
  {
   "cell_type": "code",
   "execution_count": null,
   "metadata": {
    "collapsed": false,
    "deletable": true,
    "editable": true
   },
   "outputs": [],
   "source": [
    "## overlay the analytic distributions over the data\n",
    "plt.figure()\n",
    "plt.hist(head_counts, bins=range(num_flips), normed=True)\n",
    "plt.plot(prob_dist, color='red', linewidth=4)\n",
    "plt.plot(gaus_prob_dist, color='green', linewidth=4, linestyle='dashed')\n",
    "plt.show()\n"
   ]
  },
  {
   "cell_type": "markdown",
   "metadata": {
    "deletable": true,
    "editable": true
   },
   "source": [
    "## *How can you shift the distribution to be centered at higher or lower values, or have a broader/narrower peak?*"
   ]
  },
  {
   "cell_type": "code",
   "execution_count": null,
   "metadata": {
    "collapsed": false,
    "deletable": true,
    "editable": true
   },
   "outputs": [],
   "source": []
  }
 ],
 "metadata": {
  "kernelspec": {
   "display_name": "Python 2",
   "language": "python",
   "name": "python2"
  },
  "language_info": {
   "codemirror_mode": {
    "name": "ipython",
    "version": 2
   },
   "file_extension": ".py",
   "mimetype": "text/x-python",
   "name": "python",
   "nbconvert_exporter": "python",
   "pygments_lexer": "ipython2",
   "version": "2.7.13"
  }
 },
 "nbformat": 4,
 "nbformat_minor": 0
}
